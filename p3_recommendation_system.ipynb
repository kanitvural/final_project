{
 "cells": [
  {
   "cell_type": "markdown",
   "metadata": {},
   "source": [
    "# Project-3: Recommendation System Using Amazon Data\n",
    "\n",
    "In this project, Recommendation System was performed on meta data that contains `title` and `details` features from the **All Beauty**, **Digital Music**, and **Health and Personal Care** categories in the Amazon marketplace for the year 2023.\n",
    "\n",
    "In this study, the SentenceTransformer was used for vectorization, employing the BERT-based `all-MiniLM-L6-v2` model. For the recommendation system, `FAISS`, developed by Facebook, and `ChromaDB`, developed by Chroma AI, were used for similarity search. A recommendation system was developed that takes a product title as input and lists similar products.\n",
    "\n",
    "\n",
    "# Data Specifications\n",
    "\n",
    "| Category                  | #User   | #Item   | #Rating  | #R_Token | #M_Token |\n",
    "|---------------------------|---------|---------|----------|----------|----------|\n",
    "| All_Beauty               | 632.0K  | 112.6K  | 701.5K   | 31.6M    | 74.1M    |\n",
    "| Digital_Music            | 101.0K  | 70.5K   | 130.4K   | 11.4M    | 22.3M    |\n",
    "| Health_and_Personal_Care | 461.7K  | 60.3K   | 494.1K   | 23.9M    | 40.3M    |\n",
    "\n",
    "[Data Source](https://amazon-reviews-2023.github.io/)\n",
    "\n",
    "# Table of Contents\n",
    "\n",
    "- [1. Data Loading and Validation](#1-data-loading-and-validation)\n",
    "- [2. Text Preprocessing](#2-text-preprocessing)\n",
    "  - [2.1. Concatenating of Title and Details Features](#21-concatenating-of-title-and-details-features)\n",
    "  - [2.2. Text Cleaning](#22-text-cleaning)\n",
    "- [3. Vectorization](#3-vectorization)\n",
    "- [4. Recommendation System](#4-recommendation-system)\n",
    "  - [4.1. Converting Vectors to NumPy Array](#41-converting-vectors-to-numpy-array)\n",
    "  - [4.2. FAISS is Used for Similarity Search](#42-faiss-is-used-for-similarity-search)\n",
    "  - [4.3. Listing Similar Product with FAISS](#43-listing-similar-product-with-faiss)\n",
    "  - [4.4. CHROMADB is Used for Cosine Similarity Search](#44-chromadb-is-used-for-cosine-similarity-search)\n",
    "  - [4.5. Listing Similar Products with CHROMADB](#45-listing-similar-products-with-chromadb)\n",
    "- [5. Conclusion](#5-conclusion)\n"
   ]
  },
  {
   "cell_type": "code",
   "execution_count": null,
   "metadata": {},
   "outputs": [
    {
     "name": "stderr",
     "output_type": "stream",
     "text": [
      "c:\\Users\\iskorpittt\\Desktop\\MY_DATA_SCIENCE\\PROJECTS\\KODLASAM_PROJECTS\\final_project\\venv\\Lib\\site-packages\\tqdm\\auto.py:21: TqdmWarning: IProgress not found. Please update jupyter and ipywidgets. See https://ipywidgets.readthedocs.io/en/stable/user_install.html\n",
      "  from .autonotebook import tqdm as notebook_tqdm\n"
     ]
    }
   ],
   "source": [
    "from warnings import filterwarnings\n",
    "import matplotlib.pyplot as plt\n",
    "import numpy as np\n",
    "import pandas as pd\n",
    "import seaborn as sns\n",
    "from tqdm import tqdm\n",
    "from typing import Union, Dict, Tuple, List\n",
    "from sklearn.base import BaseEstimator\n",
    "import faiss\n",
    "import chromadb\n",
    "import re\n",
    "from sentence_transformers import SentenceTransformer\n",
    "\n",
    "filterwarnings('ignore')\n",
    "pd.set_option('display.max_columns', None)\n",
    "pd.set_option('display.width', None)\n",
    "pd.set_option('display.max_rows', None)\n",
    "pd.set_option('display.float_format', lambda x: '%.2f' % x)\n",
    "pd.set_option('display.max_colwidth', None)\n",
    "\n",
    "plt.style.use(\"ggplot\")\n",
    "sns.set_palette(sns.diverging_palette(220, 20))\n",
    "tqdm.pandas()"
   ]
  },
  {
   "cell_type": "markdown",
   "metadata": {},
   "source": [
    "# 1. Data loading and Validation\n",
    "\n",
    "The datasets containing Amazon images from three different categories have been downloaded from the source link, and the row counts have been verified. The `All Beauty` category contains `112590` records, the `Digital Music` category contains `70537` records, and the `Health and Personal Care` category contains `60293` records.\n",
    "\n",
    "A missing value check was performed, and no missing data was found in `title` and `details` features.  "
   ]
  },
  {
   "cell_type": "code",
   "execution_count": 4,
   "metadata": {},
   "outputs": [
    {
     "name": "stdout",
     "output_type": "stream",
     "text": [
      "# Missing value check of each dataset:\n",
      "\n",
      "Missing values in the all_beauty_meta_df dataset: 218807\n",
      "--------------------------------------------------\n",
      "Missing values in the digital_music_meta_df dataset: 105187\n",
      "--------------------------------------------------\n",
      "Missing values in the health_and_personal_care_meta_df dataset: 112396\n",
      "--------------------------------------------------\n",
      "# Shape check of each dataset:\n",
      "\n",
      "Shape of the all_beauty_meta_df dataset: (112590, 15)\n",
      "--------------------------------------------------\n",
      "Shape of the digital_music_meta_df dataset: (70537, 15)\n",
      "--------------------------------------------------\n",
      "Shape of the health_and_personal_care_meta_df dataset: (60293, 15)\n",
      "--------------------------------------------------\n",
      "**************************************************\n",
      "The datasets from three different categories have been successfully concatenated into a single dataframe.\n",
      "Shape of the concatenated dataframe is (243420, 15)\n",
      "**************************************************\n"
     ]
    }
   ],
   "source": [
    "all_beauty_meta_file_path = \"./data/all_beauty/meta_All_Beauty.jsonl.gz\"\n",
    "digital_music_meta_file_path = \"./data/digital_music/meta_Digital_Music.jsonl.gz\"\n",
    "health_and_personal_care_meta_file_path = \"./data/health_and_personal_care/meta_Health_and_Personal_Care.jsonl.gz\"\n",
    "\n",
    "all_beauty_meta_df = pd.read_json(all_beauty_meta_file_path, lines=True, compression=\"gzip\")\n",
    "digital_music_meta_df = pd.read_json(digital_music_meta_file_path, lines=True, compression=\"gzip\")\n",
    "health_and_personal_care_meta_df = pd.read_json(health_and_personal_care_meta_file_path, lines=True,compression=\"gzip\")\n",
    "\n",
    "all_beauty_meta_df[\"category\"] = \"all_beauty\"\n",
    "digital_music_meta_df[\"category\"] = \"digital_music\"\n",
    "health_and_personal_care_meta_df[\"category\"] = \"health_and_personal_care\"\n",
    "\n",
    "print(\"# Missing value check of each dataset:\\n\")\n",
    "meta_names = [\"all_beauty_meta_df\", \"digital_music_meta_df\", \"health_and_personal_care_meta_df\"]\n",
    "meta_dataframes = [all_beauty_meta_df, digital_music_meta_df, health_and_personal_care_meta_df]\n",
    "\n",
    "for name, df in zip(meta_names, meta_dataframes):\n",
    "    print(f\"Missing values in the {name} dataset: {df.isnull().sum().sum()}\")\n",
    "    print(50 * \"-\")\n",
    "\n",
    "print(\"# Shape check of each dataset:\\n\")\n",
    "for name, df in zip(meta_names, meta_dataframes):\n",
    "    print(f\"Shape of the {name} dataset: {df.shape}\")\n",
    "    print(50 * \"-\")\n",
    "\n",
    "print(50 * \"*\")\n",
    "meta_data = pd.concat([all_beauty_meta_df, digital_music_meta_df, health_and_personal_care_meta_df], axis= 0)\n",
    "meta_df = meta_data.copy()\n",
    "\n",
    "print(\"The datasets from three different categories have been successfully concatenated into a single dataframe.\")\n",
    "print(f\"Shape of the concatenated dataframe is {meta_df.shape}\")\n",
    "print(50 * \"*\")"
   ]
  },
  {
   "cell_type": "code",
   "execution_count": 5,
   "metadata": {},
   "outputs": [
    {
     "data": {
      "text/html": [
       "<div>\n",
       "<style scoped>\n",
       "    .dataframe tbody tr th:only-of-type {\n",
       "        vertical-align: middle;\n",
       "    }\n",
       "\n",
       "    .dataframe tbody tr th {\n",
       "        vertical-align: top;\n",
       "    }\n",
       "\n",
       "    .dataframe thead th {\n",
       "        text-align: right;\n",
       "    }\n",
       "</style>\n",
       "<table border=\"1\" class=\"dataframe\">\n",
       "  <thead>\n",
       "    <tr style=\"text-align: right;\">\n",
       "      <th></th>\n",
       "      <th>title</th>\n",
       "      <th>details</th>\n",
       "    </tr>\n",
       "  </thead>\n",
       "  <tbody>\n",
       "    <tr>\n",
       "      <th>0</th>\n",
       "      <td>Howard LC0008 Leather Conditioner, 8-Ounce (4-Pack)</td>\n",
       "      <td>{'Package Dimensions': '7.1 x 5.5 x 3 inches; 2.38 Pounds', 'UPC': '617390882781'}</td>\n",
       "    </tr>\n",
       "    <tr>\n",
       "      <th>1</th>\n",
       "      <td>Yes to Tomatoes Detoxifying Charcoal Cleanser (Pack of 2) with Charcoal Powder, Tomato Fruit Extract, and Gingko Biloba Leaf Extract, 5 fl. oz.</td>\n",
       "      <td>{'Item Form': 'Powder', 'Skin Type': 'Acne Prone', 'Brand': 'Yes To', 'Age Range (Description)': 'Adult', 'Unit Count': '10 Fl Oz', 'Is Discontinued By Manufacturer': 'No', 'Item model number': 'SG_B076WQZGPM_US', 'UPC': '653801351125', 'Manufacturer': 'Yes to Tomatoes'}</td>\n",
       "    </tr>\n",
       "    <tr>\n",
       "      <th>2</th>\n",
       "      <td>Eye Patch Black Adult with Tie Band (6 Per Pack)</td>\n",
       "      <td>{'Manufacturer': 'Levine Health Products'}</td>\n",
       "    </tr>\n",
       "    <tr>\n",
       "      <th>3</th>\n",
       "      <td>Tattoo Eyebrow Stickers, Waterproof Eyebrow, 4D Imitation Eyebrow Tattoos, 4D Hair-like Authentic Eyebrows Waterproof Long Lasting for Woman &amp; Man Makeup Tool</td>\n",
       "      <td>{'Brand': 'Cherioll', 'Item Form': 'Powder', 'Finish Type': 'Natural', 'Product Benefits': 'Long Lasting', 'Skin Type': 'All', 'Package Dimensions': '8.43 x 5.91 x 0.87 inches; 8.78 Ounces', 'Item model number': 'eyebrow sticker001'}</td>\n",
       "    </tr>\n",
       "    <tr>\n",
       "      <th>4</th>\n",
       "      <td>Precision Plunger Bars for Cartridge Grips – 93mm – Bag of 10 Plungers</td>\n",
       "      <td>{'UPC': '644287689178'}</td>\n",
       "    </tr>\n",
       "  </tbody>\n",
       "</table>\n",
       "</div>"
      ],
      "text/plain": [
       "                                                                                                                                                            title  \\\n",
       "0                                                                                                             Howard LC0008 Leather Conditioner, 8-Ounce (4-Pack)   \n",
       "1                 Yes to Tomatoes Detoxifying Charcoal Cleanser (Pack of 2) with Charcoal Powder, Tomato Fruit Extract, and Gingko Biloba Leaf Extract, 5 fl. oz.   \n",
       "2                                                                                                                Eye Patch Black Adult with Tie Band (6 Per Pack)   \n",
       "3  Tattoo Eyebrow Stickers, Waterproof Eyebrow, 4D Imitation Eyebrow Tattoos, 4D Hair-like Authentic Eyebrows Waterproof Long Lasting for Woman & Man Makeup Tool   \n",
       "4                                                                                          Precision Plunger Bars for Cartridge Grips – 93mm – Bag of 10 Plungers   \n",
       "\n",
       "                                                                                                                                                                                                                                                                           details  \n",
       "0                                                                                                                                                                                               {'Package Dimensions': '7.1 x 5.5 x 3 inches; 2.38 Pounds', 'UPC': '617390882781'}  \n",
       "1  {'Item Form': 'Powder', 'Skin Type': 'Acne Prone', 'Brand': 'Yes To', 'Age Range (Description)': 'Adult', 'Unit Count': '10 Fl Oz', 'Is Discontinued By Manufacturer': 'No', 'Item model number': 'SG_B076WQZGPM_US', 'UPC': '653801351125', 'Manufacturer': 'Yes to Tomatoes'}  \n",
       "2                                                                                                                                                                                                                                       {'Manufacturer': 'Levine Health Products'}  \n",
       "3                                        {'Brand': 'Cherioll', 'Item Form': 'Powder', 'Finish Type': 'Natural', 'Product Benefits': 'Long Lasting', 'Skin Type': 'All', 'Package Dimensions': '8.43 x 5.91 x 0.87 inches; 8.78 Ounces', 'Item model number': 'eyebrow sticker001'}  \n",
       "4                                                                                                                                                                                                                                                          {'UPC': '644287689178'}  "
      ]
     },
     "execution_count": 5,
     "metadata": {},
     "output_type": "execute_result"
    }
   ],
   "source": [
    "meta_df = meta_data.copy()\n",
    "meta_df = meta_df[[\"title\",\"details\"]]\n",
    "meta_df.head()\n"
   ]
  },
  {
   "cell_type": "markdown",
   "metadata": {},
   "source": [
    "**There is no any missing values in the main_category and images**"
   ]
  },
  {
   "cell_type": "code",
   "execution_count": 6,
   "metadata": {},
   "outputs": [
    {
     "data": {
      "text/plain": [
       "title      0\n",
       "details    0\n",
       "dtype: int64"
      ]
     },
     "execution_count": 6,
     "metadata": {},
     "output_type": "execute_result"
    }
   ],
   "source": [
    "meta_df.isnull().sum()"
   ]
  },
  {
   "cell_type": "markdown",
   "metadata": {},
   "source": [
    "# 2. Text Preprocessing\n",
    "\n",
    "## 2.1. Concatenating of Title and Details Features\n",
    "\n",
    "In this section, the `title` and `details` features have been merged. The purpose of this is to generate richer text data for each product and use this data to identify similar products more accurately."
   ]
  },
  {
   "cell_type": "code",
   "execution_count": 7,
   "metadata": {},
   "outputs": [
    {
     "name": "stderr",
     "output_type": "stream",
     "text": [
      "100%|██████████| 243420/243420 [00:02<00:00, 95818.13it/s] \n"
     ]
    },
    {
     "data": {
      "text/html": [
       "<div>\n",
       "<style scoped>\n",
       "    .dataframe tbody tr th:only-of-type {\n",
       "        vertical-align: middle;\n",
       "    }\n",
       "\n",
       "    .dataframe tbody tr th {\n",
       "        vertical-align: top;\n",
       "    }\n",
       "\n",
       "    .dataframe thead th {\n",
       "        text-align: right;\n",
       "    }\n",
       "</style>\n",
       "<table border=\"1\" class=\"dataframe\">\n",
       "  <thead>\n",
       "    <tr style=\"text-align: right;\">\n",
       "      <th></th>\n",
       "      <th>title</th>\n",
       "      <th>details</th>\n",
       "      <th>combined_text</th>\n",
       "    </tr>\n",
       "  </thead>\n",
       "  <tbody>\n",
       "    <tr>\n",
       "      <th>0</th>\n",
       "      <td>Howard LC0008 Leather Conditioner, 8-Ounce (4-Pack)</td>\n",
       "      <td>{'Package Dimensions': '7.1 x 5.5 x 3 inches; 2.38 Pounds', 'UPC': '617390882781'}</td>\n",
       "      <td>Howard LC0008 Leather Conditioner, 8-Ounce (4-Pack) {'Package Dimensions': '7.1 x 5.5 x 3 inches; 2.38 Pounds', 'UPC': '617390882781'}</td>\n",
       "    </tr>\n",
       "    <tr>\n",
       "      <th>1</th>\n",
       "      <td>Yes to Tomatoes Detoxifying Charcoal Cleanser (Pack of 2) with Charcoal Powder, Tomato Fruit Extract, and Gingko Biloba Leaf Extract, 5 fl. oz.</td>\n",
       "      <td>{'Item Form': 'Powder', 'Skin Type': 'Acne Prone', 'Brand': 'Yes To', 'Age Range (Description)': 'Adult', 'Unit Count': '10 Fl Oz', 'Is Discontinued By Manufacturer': 'No', 'Item model number': 'SG_B076WQZGPM_US', 'UPC': '653801351125', 'Manufacturer': 'Yes to Tomatoes'}</td>\n",
       "      <td>Yes to Tomatoes Detoxifying Charcoal Cleanser (Pack of 2) with Charcoal Powder, Tomato Fruit Extract, and Gingko Biloba Leaf Extract, 5 fl. oz. {'Item Form': 'Powder', 'Skin Type': 'Acne Prone', 'Brand': 'Yes To', 'Age Range (Description)': 'Adult', 'Unit Count': '10 Fl Oz', 'Is Discontinued By Manufacturer': 'No', 'Item model number': 'SG_B076WQZGPM_US', 'UPC': '653801351125', 'Manufacturer': 'Yes to Tomatoes'}</td>\n",
       "    </tr>\n",
       "  </tbody>\n",
       "</table>\n",
       "</div>"
      ],
      "text/plain": [
       "                                                                                                                                             title  \\\n",
       "0                                                                                              Howard LC0008 Leather Conditioner, 8-Ounce (4-Pack)   \n",
       "1  Yes to Tomatoes Detoxifying Charcoal Cleanser (Pack of 2) with Charcoal Powder, Tomato Fruit Extract, and Gingko Biloba Leaf Extract, 5 fl. oz.   \n",
       "\n",
       "                                                                                                                                                                                                                                                                           details  \\\n",
       "0                                                                                                                                                                                               {'Package Dimensions': '7.1 x 5.5 x 3 inches; 2.38 Pounds', 'UPC': '617390882781'}   \n",
       "1  {'Item Form': 'Powder', 'Skin Type': 'Acne Prone', 'Brand': 'Yes To', 'Age Range (Description)': 'Adult', 'Unit Count': '10 Fl Oz', 'Is Discontinued By Manufacturer': 'No', 'Item model number': 'SG_B076WQZGPM_US', 'UPC': '653801351125', 'Manufacturer': 'Yes to Tomatoes'}   \n",
       "\n",
       "                                                                                                                                                                                                                                                                                                                                                                                                                     combined_text  \n",
       "0                                                                                                                                                                                                                                                                                           Howard LC0008 Leather Conditioner, 8-Ounce (4-Pack) {'Package Dimensions': '7.1 x 5.5 x 3 inches; 2.38 Pounds', 'UPC': '617390882781'}  \n",
       "1  Yes to Tomatoes Detoxifying Charcoal Cleanser (Pack of 2) with Charcoal Powder, Tomato Fruit Extract, and Gingko Biloba Leaf Extract, 5 fl. oz. {'Item Form': 'Powder', 'Skin Type': 'Acne Prone', 'Brand': 'Yes To', 'Age Range (Description)': 'Adult', 'Unit Count': '10 Fl Oz', 'Is Discontinued By Manufacturer': 'No', 'Item model number': 'SG_B076WQZGPM_US', 'UPC': '653801351125', 'Manufacturer': 'Yes to Tomatoes'}  "
      ]
     },
     "execution_count": 7,
     "metadata": {},
     "output_type": "execute_result"
    }
   ],
   "source": [
    "meta_df[\"combined_text\"] = meta_df.progress_apply(\n",
    "    lambda x: f\"{x['title']} {str(x['details']) if isinstance(x['details'], dict) else x['details']}\",\n",
    "    axis=1)\n",
    "meta_df.head(2)"
   ]
  },
  {
   "cell_type": "markdown",
   "metadata": {},
   "source": [
    "## 2.2. Text Cleaning"
   ]
  },
  {
   "cell_type": "markdown",
   "metadata": {},
   "source": [
    "In the vectorization process, `SentenceTransformer` will be used. When working with models like Sentence-BERT, the following steps are typically sufficient:\n",
    "\n",
    "- **Converting text to lowercase**: This ensures consistency by standardizing the text.\n",
    "  \n",
    "- **Cleaning punctuation**: Only punctuation marks and extra spaces are removed during the cleaning process, while numbers are preserved. In recommendation systems, meaningful insights can be derived from numbers.\n",
    "  \n",
    "- **Removing stopwords**: This is not necessary, as the model automatically detects contextual meaning.\n",
    "  \n",
    "- **Lemmatization and stemming**: Not required, as Sentence-BERT handles these processes internally.\n",
    "  \n",
    "- **Removing rare words**: Not necessary, as the model evaluates rare words within their context.\n",
    "\n"
   ]
  },
  {
   "cell_type": "code",
   "execution_count": 8,
   "metadata": {},
   "outputs": [],
   "source": [
    "def clean_text(text: str) -> str:\n",
    "    \"\"\"\n",
    "    Clean and normalize text by converting it to lowercase and removing special characters \n",
    "    (punctuation), extra spaces while keeping numbers.\n",
    "\n",
    "    Parameters\n",
    "    ----------\n",
    "    text : str\n",
    "        The input text string to be cleaned.\n",
    "\n",
    "    Returns\n",
    "    -------\n",
    "    str\n",
    "        The cleaned and normalized text string.\n",
    "    \"\"\"\n",
    "    text = text.lower()\n",
    "    # Remove special characters (punctuation) but keep numbers and spaces\n",
    "    text = re.sub(r\"[^a-zA-Z0-9\\s]\", \"\", text)\n",
    "    \n",
    "    # Collapse multiple spaces into a single space and strips\n",
    "    text = re.sub(r\"\\s+\", \" \", text).strip()\n",
    "    \n",
    "    return text"
   ]
  },
  {
   "cell_type": "code",
   "execution_count": 9,
   "metadata": {},
   "outputs": [
    {
     "name": "stderr",
     "output_type": "stream",
     "text": [
      "100%|██████████| 243420/243420 [00:05<00:00, 45463.79it/s]\n"
     ]
    },
    {
     "data": {
      "text/html": [
       "<div>\n",
       "<style scoped>\n",
       "    .dataframe tbody tr th:only-of-type {\n",
       "        vertical-align: middle;\n",
       "    }\n",
       "\n",
       "    .dataframe tbody tr th {\n",
       "        vertical-align: top;\n",
       "    }\n",
       "\n",
       "    .dataframe thead th {\n",
       "        text-align: right;\n",
       "    }\n",
       "</style>\n",
       "<table border=\"1\" class=\"dataframe\">\n",
       "  <thead>\n",
       "    <tr style=\"text-align: right;\">\n",
       "      <th></th>\n",
       "      <th>title</th>\n",
       "      <th>details</th>\n",
       "      <th>combined_text</th>\n",
       "    </tr>\n",
       "  </thead>\n",
       "  <tbody>\n",
       "    <tr>\n",
       "      <th>0</th>\n",
       "      <td>Howard LC0008 Leather Conditioner, 8-Ounce (4-Pack)</td>\n",
       "      <td>{'Package Dimensions': '7.1 x 5.5 x 3 inches; 2.38 Pounds', 'UPC': '617390882781'}</td>\n",
       "      <td>howard lc0008 leather conditioner 8ounce 4pack package dimensions 71 x 55 x 3 inches 238 pounds upc 617390882781</td>\n",
       "    </tr>\n",
       "    <tr>\n",
       "      <th>1</th>\n",
       "      <td>Yes to Tomatoes Detoxifying Charcoal Cleanser (Pack of 2) with Charcoal Powder, Tomato Fruit Extract, and Gingko Biloba Leaf Extract, 5 fl. oz.</td>\n",
       "      <td>{'Item Form': 'Powder', 'Skin Type': 'Acne Prone', 'Brand': 'Yes To', 'Age Range (Description)': 'Adult', 'Unit Count': '10 Fl Oz', 'Is Discontinued By Manufacturer': 'No', 'Item model number': 'SG_B076WQZGPM_US', 'UPC': '653801351125', 'Manufacturer': 'Yes to Tomatoes'}</td>\n",
       "      <td>yes to tomatoes detoxifying charcoal cleanser pack of 2 with charcoal powder tomato fruit extract and gingko biloba leaf extract 5 fl oz item form powder skin type acne prone brand yes to age range description adult unit count 10 fl oz is discontinued by manufacturer no item model number sgb076wqzgpmus upc 653801351125 manufacturer yes to tomatoes</td>\n",
       "    </tr>\n",
       "  </tbody>\n",
       "</table>\n",
       "</div>"
      ],
      "text/plain": [
       "                                                                                                                                             title  \\\n",
       "0                                                                                              Howard LC0008 Leather Conditioner, 8-Ounce (4-Pack)   \n",
       "1  Yes to Tomatoes Detoxifying Charcoal Cleanser (Pack of 2) with Charcoal Powder, Tomato Fruit Extract, and Gingko Biloba Leaf Extract, 5 fl. oz.   \n",
       "\n",
       "                                                                                                                                                                                                                                                                           details  \\\n",
       "0                                                                                                                                                                                               {'Package Dimensions': '7.1 x 5.5 x 3 inches; 2.38 Pounds', 'UPC': '617390882781'}   \n",
       "1  {'Item Form': 'Powder', 'Skin Type': 'Acne Prone', 'Brand': 'Yes To', 'Age Range (Description)': 'Adult', 'Unit Count': '10 Fl Oz', 'Is Discontinued By Manufacturer': 'No', 'Item model number': 'SG_B076WQZGPM_US', 'UPC': '653801351125', 'Manufacturer': 'Yes to Tomatoes'}   \n",
       "\n",
       "                                                                                                                                                                                                                                                                                                                                                   combined_text  \n",
       "0                                                                                                                                                                                                                                               howard lc0008 leather conditioner 8ounce 4pack package dimensions 71 x 55 x 3 inches 238 pounds upc 617390882781  \n",
       "1  yes to tomatoes detoxifying charcoal cleanser pack of 2 with charcoal powder tomato fruit extract and gingko biloba leaf extract 5 fl oz item form powder skin type acne prone brand yes to age range description adult unit count 10 fl oz is discontinued by manufacturer no item model number sgb076wqzgpmus upc 653801351125 manufacturer yes to tomatoes  "
      ]
     },
     "execution_count": 9,
     "metadata": {},
     "output_type": "execute_result"
    }
   ],
   "source": [
    "meta_df[\"combined_text\"] = meta_df[\"combined_text\"].progress_apply(clean_text)\n",
    "meta_df.head(2)"
   ]
  },
  {
   "cell_type": "markdown",
   "metadata": {},
   "source": [
    "\n",
    "# 3. Vectorization\n",
    "\n",
    "In the vectorization stage, the Sentence Transformers library was used to convert text data into numerical format. The `all-MiniLM-L6-v2` model was employed by this library to transform each text into meaningful vectors. The all-MiniLM-L6-v2 model, which is a small yet efficient `BERT-based` model, was optimized to accurately capture similarities between texts. This model converts sentences and texts into numerical vectors while preserving their meaning, making it suitable for measuring similarities between texts and for applications such as recommendation systems. This vectorization process is essential for calculating similarities between texts in subsequent steps."
   ]
  },
  {
   "cell_type": "code",
   "execution_count": 10,
   "metadata": {},
   "outputs": [
    {
     "name": "stderr",
     "output_type": "stream",
     "text": [
      "100%|██████████| 243420/243420 [1:18:44<00:00, 51.53it/s]\n"
     ]
    },
    {
     "data": {
      "text/plain": [
       "0     [-0.0918413, 0.06003494, 0.004900872, -0.0073167305, -0.0465304, 0.028341604, 0.0024836974, 0.07730959, -0.013703487, -0.032785356, -0.018591268, -0.08558699, 0.10394323, -0.051345274, -0.05043488, 0.0047271713, 0.029379848, -0.02028668, -0.06343625, 0.0006807128, -0.06766593, -0.015997058, -0.026054906, 0.021870762, -0.11063664, 0.0291975, 0.06551853, -0.0002637189, -0.04165343, -0.0038086483, 0.057719193, -0.020869533, 0.028144227, 0.065324865, -0.0019984734, 0.050205432, -0.041322928, -0.036801253, 0.064071886, 0.036421824, -0.0022212465, -0.04859935, 0.004728827, 0.03915579, -0.045157462, -0.03938245, -0.034714114, 0.06453106, 0.045751784, -0.023349473, 0.046039216, 0.034843195, -0.062064715, -0.014443702, 0.013906781, 0.0036212008, -0.022480816, -0.027430534, -0.038602434, -0.014063306, 0.062229816, -0.028353779, -0.0043628886, -0.029414691, 0.0053261686, 0.0883889, -0.034931876, -0.059152935, -0.06094775, -0.021268213, -0.07645427, 0.028868686, 0.046392813, 0.013261544, 0.080165796, -0.07555634, 0.05509905, -0.0015354333, 0.011372327, -0.024513904, -0.0020158251, -0.01062123, -0.02317723, 0.07735329, -0.073288396, -0.0137604335, 0.028180348, -0.018944029, 0.04559889, 0.027103191, -0.04068652, -0.02344806, -0.038894586, -0.05561448, -0.027935576, 0.029083876, 0.03561753, 0.041700527, 0.015418126, 0.061321784, ...]\n",
       "1            [-0.073641315, 0.035555504, -0.019178914, 0.04090122, 0.042129498, 0.020085072, 0.09305789, -0.012239918, -0.101811826, -0.04867608, 0.09616928, -0.011805008, 0.038930852, 0.044131964, -0.0062046074, -0.008170153, -0.021357158, 0.07452873, -0.031046418, -0.015905958, -0.115780205, 0.0805438, -0.0411711, -0.007261114, 0.04373955, -0.038991608, -0.08835497, -0.011801522, -0.04317033, -0.051368516, 0.03408477, 0.06153956, -0.015079293, -0.020519082, 0.078701854, -0.017024335, -0.024129122, 0.01093916, 0.011052334, 0.043226928, 0.014963466, -0.016566457, -0.07141108, -0.06093026, 0.018783461, -0.004410533, -0.13167305, -0.03177493, 0.03938106, -0.058928028, -0.029008664, -0.0043151514, -0.002350973, -0.02077818, 0.012972743, -0.10246716, 0.003468337, -0.019084597, -0.05524857, 0.088690884, -0.02026646, -0.07243186, -0.012888003, -0.032888856, 0.009377507, -0.039236818, -0.009408418, -0.06542862, 0.06022234, -0.021635868, -0.14142409, -0.07228248, -0.007612134, 0.015315244, -0.013946376, 0.08624993, 0.06134732, -0.01363949, -0.074890465, 0.0047345646, -0.021505, -0.012803428, 0.0012332988, -0.009105768, -0.013801224, 0.020560766, -0.107596904, -0.033327833, -0.017072748, 0.044321384, -0.017722903, 0.11925223, 0.06901423, 0.0033484397, -0.02881276, -0.09413381, 0.033600572, 0.006255354, -0.050502285, 0.058943283, ...]\n",
       "2                     [-0.048624743, 0.011648078, -0.04472962, 0.029414937, -0.06018014, -0.02022507, 0.15367319, 0.06424944, -0.10509708, 0.012301633, 0.05643551, -0.053676624, -0.036958434, -0.02462353, -0.043204427, 0.053116072, -0.011515324, -0.016872631, 0.0011406969, -0.025014589, -0.048511423, 0.0028191854, 0.022393601, 0.027190644, -0.116149, 0.0054019303, -0.01701914, -0.050454225, 0.019398393, -0.05374479, -0.036905218, 0.03682148, 0.00076183234, 0.0055273967, -0.009734566, -0.05787361, -0.039678574, -0.007289194, -0.14893809, 0.06309845, -0.009726611, 0.013469471, -0.096348025, 0.006666939, 0.03914268, 0.029067848, 0.008952884, 0.05134363, 0.023836927, 0.052955214, -0.023154264, -0.06547189, 0.00080579147, 0.04045928, 0.050724775, -0.05891981, -0.15605353, -0.032058094, 0.0022770928, 0.009867891, 0.07569483, -0.06958749, -0.02273018, 0.020522134, -0.010602907, 0.056936223, 0.0044975486, -0.06082034, 0.027047262, -0.031065254, -0.0687268, 0.0070001916, 0.051355537, 0.039478827, -0.02266984, 0.06674093, 0.10074406, -0.069842845, 0.090889156, 0.008031099, -0.029241325, -0.027231283, 0.03788679, 0.0008228251, 0.059798446, 0.0142386975, 0.0029616975, 0.041095477, -0.06629801, 0.03366217, -0.03527703, 0.12474641, 0.024610706, -0.06451711, -0.024295535, 0.036266368, -0.017696364, -0.01714884, -0.0516742, 0.09269996, ...]\n",
       "3                                [-0.06623463, -0.018209057, 0.09368116, 0.077597566, 0.021411974, -0.0018370072, 0.09970354, 0.06089268, -0.06734191, -0.05652568, 0.047366973, -0.10167243, -0.031403214, -0.0041532996, -0.049831532, 0.011468508, -0.07905839, -0.021777337, 0.021710457, -0.02969906, 0.03582881, -0.037521526, -0.004403944, 0.07494339, -0.11053148, 0.009632544, 0.028714575, 0.010643988, 0.0163664, -0.08166503, 0.042884707, 0.0037960631, -0.06806959, -0.04952, 0.011528833, 0.013298246, -0.021197578, 0.014322571, 0.024323905, -0.02493727, 0.03385091, -0.053136017, -0.054066334, 0.03643754, -0.025634788, 0.006639969, 0.08950837, 0.06473831, 0.015790243, 0.032496937, 0.024288142, -0.060108554, -0.07261503, -0.03635701, 0.00015514284, -0.014069344, -0.05984996, 0.006585535, -0.016205776, 0.060798418, 0.016828869, -0.05186496, 0.010210988, -0.02142915, 0.020149212, 0.13411787, -0.097650446, -0.06023283, -0.011716851, 0.006957123, -0.0843438, -0.008952849, -0.02847008, 0.08957034, -0.03618295, -0.014345482, 0.0044896095, 0.036586665, -0.06091477, 0.030935105, -0.03158181, -0.02540013, 0.06414429, 0.059082557, 0.0044277236, 0.08369298, 0.019165436, -0.09588823, 0.011246976, -0.014287705, -0.04814122, 0.04572367, -0.022507854, -0.029954014, -0.062051464, 0.018166358, -0.016982183, 0.06441896, 0.06769014, 0.05215205, ...]\n",
       "4    [-0.07267788, 0.0019888992, -0.062051363, -0.058342554, -0.1424647, 0.00017265433, 0.030148812, 0.096723296, -0.055980265, -0.0724246, -0.037157428, 0.01486037, 0.0026854994, -0.023886308, -0.0752243, -0.0011705918, -0.096378066, 0.047705457, 0.03765814, 0.010385156, -0.05240752, 0.024467321, 0.004458831, -0.002806574, -0.08649486, -0.0064301873, -0.028978342, -0.03923568, 0.060858667, 0.002646517, 0.049387433, -0.017144997, 0.010033983, -0.028558202, 0.042481445, -0.07508932, -0.013331616, 0.0043133497, 0.0570683, -0.038428467, 0.00907998, -0.009827133, 0.036046445, 0.03294413, -0.014585928, 0.055300515, -0.039320923, 0.047876168, -0.020568203, 0.008025167, 0.03621287, -0.0079922695, -0.04674014, -0.0026461184, 0.05228739, -0.1239012, -0.043181412, -0.023773089, 0.012211534, -0.020522906, 0.03092519, 0.004351432, -0.063706435, 0.01050646, 0.013299651, 0.10859702, 0.005150317, -0.0704809, 0.025402686, -0.00069064734, -0.054265626, 0.0065184366, -0.05711069, 0.00014683782, -0.0046507707, -0.030738395, 0.017166896, 0.044168033, -0.0164813, 0.055819664, -0.012508791, -0.057463404, 0.0020359464, -0.04200555, -0.0061282977, -0.08905483, 0.00013934857, -0.0030005397, 0.10022968, 0.02058013, -0.0769775, -0.027836842, 0.016827583, 0.004686819, -0.064064436, -0.023989474, 0.008235292, 0.048636865, -0.011758248, 0.035075363, ...]\n",
       "Name: vector, dtype: object"
      ]
     },
     "execution_count": 10,
     "metadata": {},
     "output_type": "execute_result"
    }
   ],
   "source": [
    "model = SentenceTransformer(\"all-MiniLM-L6-v2\")\n",
    "meta_df[\"vector\"] = meta_df[\"combined_text\"].progress_apply(lambda x: model.encode(x))\n",
    "meta_df[\"vector\"].head()"
   ]
  },
  {
   "cell_type": "code",
   "execution_count": 11,
   "metadata": {},
   "outputs": [],
   "source": [
    "meta_df.to_csv(\"vectorized_df.csv\") "
   ]
  },
  {
   "cell_type": "code",
   "execution_count": 2,
   "metadata": {},
   "outputs": [],
   "source": [
    "# meta_df = pd.read_csv(\"vectorized_df.csv\")"
   ]
  },
  {
   "cell_type": "markdown",
   "metadata": {},
   "source": [
    "# 4. Recommendation System\n",
    "\n",
    "## 4.1. Converting Vectors to NumPy Array\n",
    "\n",
    "First, the vector column in meta_df was converted to a `numpy` array. This was done because numpy arrays offer performance benefits, especially when handling large datasets. Mathematical operations and memory management are optimized when numpy arrays are used, which is essential when working with high-dimensional data such as text embeddings. The embeddings, which were initially in the form of lists or pandas series objects, were converted to numpy arrays to enable fast computations, particularly for tasks like cosine similarity or distance-based searches. This conversion was also performed to ensure compatibility with libraries like `FAISS`."
   ]
  },
  {
   "cell_type": "code",
   "execution_count": 12,
   "metadata": {},
   "outputs": [
    {
     "name": "stderr",
     "output_type": "stream",
     "text": [
      "100%|██████████| 243420/243420 [00:00<00:00, 1060078.47it/s]\n"
     ]
    },
    {
     "name": "stdout",
     "output_type": "stream",
     "text": [
      "Vectors Shape: (243420, 384)\n"
     ]
    }
   ],
   "source": [
    "text_embeddings = np.array(meta_df[\"vector\"].progress_apply(lambda x: x).tolist()).astype('float32')\n",
    "print(f\"Vectors Shape: {text_embeddings.shape}\")"
   ]
  },
  {
   "cell_type": "markdown",
   "metadata": {},
   "source": [
    "## 4.2. FAISS is Used for Similarity Search\n",
    "\n",
    "Instead of using traditional methods like sklearn.metrics.pairwise.cosine_similarity, `FAISS (Facebook AI Similarity Search)` was used for similarity search. This choice was made because FAISS is highly optimized for nearest neighbor searches in large datasets, whereas methods like cosine_similarity can become computationally expensive and memory-intensive as the dataset grows. For instance, using sklearn for cosine similarity calculation across thousands or millions of vectors may require a substantial amount of memory (e.g., 400 GB).\n",
    "\n",
    "FAISS was designed to perform high-speed similarity searches efficiently. While cosine similarity is a standard method for calculating the similarity between vectors, it is not directly calculated by FAISS. Instead, FAISS uses the `L2 distance (Euclidean distance)` between vectors to perform similarity searches. However, this is equivalent to calculating cosine similarity when vectors are normalized, which was the case in this project.\n",
    "\n",
    "Rather than keeping the entire similarity matrix in memory, FAISS computes only the necessary parts on demand, which significantly reduces memory usage.\n",
    "\n",
    "An index was created in FAISS using the IndexFlatL2 algorithm, which computes the L2 distance between vectors. The index was then populated with the vectors."
   ]
  },
  {
   "cell_type": "code",
   "execution_count": 41,
   "metadata": {},
   "outputs": [
    {
     "name": "stdout",
     "output_type": "stream",
     "text": [
      "Number of vectors in the index: 243420\n"
     ]
    }
   ],
   "source": [
    "index = faiss.IndexFlatL2(text_embeddings.shape[1])\n",
    "index.add(text_embeddings)\n",
    "print(f\"Number of vectors in the index: {index.ntotal}\")"
   ]
  },
  {
   "cell_type": "markdown",
   "metadata": {},
   "source": [
    "## 4.3. Listing Similar Product with FAISS\n",
    "\n",
    "After the FAISS index was set up, a function get_similar_products_faiss was implemented to retrieve the most similar products based on a given product’s title. The steps involved are as follows:\n",
    "\n",
    "- The index of the product title in the DataFrame (meta_df) was located.\n",
    "\n",
    "- The FAISS index was used to perform a similarity search for the product’s embedding, returning the top n most similar products.\n",
    "  \n",
    "- The input product was excluded from the results to prevent it from appearing in its own similarity list.\n",
    "  \n",
    "- The similarity scores were added to the products and sorted in descending order to retrieve the top n most similar products.\n",
    "\n",
    "Upon examining the results, it is observed that similar products are successfully listed."
   ]
  },
  {
   "cell_type": "code",
   "execution_count": 50,
   "metadata": {},
   "outputs": [],
   "source": [
    "def get_similar_products_faiss(product_title: str, meta_df: pd.DataFrame, index, top_n: int = 10) -> pd.Series:\n",
    "    \"\"\"\n",
    "    Use Faiss to find products similar to a given product based on its title.\n",
    "\n",
    "    Parameters\n",
    "    ----------\n",
    "    product_title : str\n",
    "        The title of the product for which similar products are to be found.\n",
    "    meta_df : pd.DataFrame\n",
    "        A DataFrame containing product information (titles and vectors).\n",
    "    index : faiss.Index\n",
    "        The Faiss index object used for similarity search.\n",
    "    top_n : int, optional\n",
    "        The number of similar products to return, by default 10.\n",
    "\n",
    "    Returns\n",
    "    -------\n",
    "    pd.Series\n",
    "        A Series containing the titles of the most similar products and their similarity scores, sorted in descending order.\n",
    "    \"\"\"\n",
    "\n",
    "    product_index = meta_df[meta_df[\"title\"] == product_title].index[0]\n",
    "    distances, indices = index.search(text_embeddings[product_index:product_index+1], top_n)\n",
    "    similar_products = meta_df.iloc[indices[0]]\n",
    "    similar_products = similar_products[similar_products.index != product_index]\n",
    "    num_similar = len(similar_products)\n",
    "    \n",
    "    if num_similar == 0:\n",
    "        return pd.Series([], dtype=\"object\")\n",
    "    \n",
    "    similar_products[\"similarity\"] = distances[0][:num_similar]\n",
    "    similar_products = similar_products.sort_values(by=\"similarity\", ascending=False)\n",
    "    \n",
    "    return similar_products[[\"title\", \"similarity\"]]\n"
   ]
  },
  {
   "cell_type": "code",
   "execution_count": 58,
   "metadata": {},
   "outputs": [
    {
     "data": {
      "text/html": [
       "<div>\n",
       "<style scoped>\n",
       "    .dataframe tbody tr th:only-of-type {\n",
       "        vertical-align: middle;\n",
       "    }\n",
       "\n",
       "    .dataframe tbody tr th {\n",
       "        vertical-align: top;\n",
       "    }\n",
       "\n",
       "    .dataframe thead th {\n",
       "        text-align: right;\n",
       "    }\n",
       "</style>\n",
       "<table border=\"1\" class=\"dataframe\">\n",
       "  <thead>\n",
       "    <tr style=\"text-align: right;\">\n",
       "      <th></th>\n",
       "      <th>title</th>\n",
       "    </tr>\n",
       "  </thead>\n",
       "  <tbody>\n",
       "    <tr>\n",
       "      <th>0</th>\n",
       "      <td>Howard LC0008 Leather Conditioner, 8-Ounce (4-Pack)</td>\n",
       "    </tr>\n",
       "    <tr>\n",
       "      <th>1</th>\n",
       "      <td>Yes to Tomatoes Detoxifying Charcoal Cleanser (Pack of 2) with Charcoal Powder, Tomato Fruit Extract, and Gingko Biloba Leaf Extract, 5 fl. oz.</td>\n",
       "    </tr>\n",
       "    <tr>\n",
       "      <th>2</th>\n",
       "      <td>Eye Patch Black Adult with Tie Band (6 Per Pack)</td>\n",
       "    </tr>\n",
       "    <tr>\n",
       "      <th>3</th>\n",
       "      <td>Tattoo Eyebrow Stickers, Waterproof Eyebrow, 4D Imitation Eyebrow Tattoos, 4D Hair-like Authentic Eyebrows Waterproof Long Lasting for Woman &amp; Man Makeup Tool</td>\n",
       "    </tr>\n",
       "    <tr>\n",
       "      <th>4</th>\n",
       "      <td>Precision Plunger Bars for Cartridge Grips – 93mm – Bag of 10 Plungers</td>\n",
       "    </tr>\n",
       "    <tr>\n",
       "      <th>5</th>\n",
       "      <td>Lurrose 100Pcs Full Cover Fake Toenails Artificial Transparent Nail Tips Nail Art for DIY</td>\n",
       "    </tr>\n",
       "    <tr>\n",
       "      <th>6</th>\n",
       "      <td>Stain Bonnet For Baby Bonnet Silk Sleep Cap For Toddler Child Shower Cap Teens Kids</td>\n",
       "    </tr>\n",
       "    <tr>\n",
       "      <th>7</th>\n",
       "      <td>50 Pieces False Eyelash Packaging Box Empty Eyelash Box Plastic Eyelash Storage Case with Glitter Paper and Clear Tray for Women Girls Eyelash (Holographic)</td>\n",
       "    </tr>\n",
       "    <tr>\n",
       "      <th>8</th>\n",
       "      <td>Gold extatic Musk EDT 90ml</td>\n",
       "    </tr>\n",
       "    <tr>\n",
       "      <th>9</th>\n",
       "      <td>4 Pieces Satin Bonnet Adjustable Sleep Cap Double Layer Printed Hair Bonnet Large Reversible Sleeping Silk Night Hair Cap for Women Natural Curly Hair (Floral, Flamingo, Flower)</td>\n",
       "    </tr>\n",
       "  </tbody>\n",
       "</table>\n",
       "</div>"
      ],
      "text/plain": [
       "                                                                                                                                                                               title\n",
       "0                                                                                                                                Howard LC0008 Leather Conditioner, 8-Ounce (4-Pack)\n",
       "1                                    Yes to Tomatoes Detoxifying Charcoal Cleanser (Pack of 2) with Charcoal Powder, Tomato Fruit Extract, and Gingko Biloba Leaf Extract, 5 fl. oz.\n",
       "2                                                                                                                                   Eye Patch Black Adult with Tie Band (6 Per Pack)\n",
       "3                     Tattoo Eyebrow Stickers, Waterproof Eyebrow, 4D Imitation Eyebrow Tattoos, 4D Hair-like Authentic Eyebrows Waterproof Long Lasting for Woman & Man Makeup Tool\n",
       "4                                                                                                             Precision Plunger Bars for Cartridge Grips – 93mm – Bag of 10 Plungers\n",
       "5                                                                                          Lurrose 100Pcs Full Cover Fake Toenails Artificial Transparent Nail Tips Nail Art for DIY\n",
       "6                                                                                                Stain Bonnet For Baby Bonnet Silk Sleep Cap For Toddler Child Shower Cap Teens Kids\n",
       "7                       50 Pieces False Eyelash Packaging Box Empty Eyelash Box Plastic Eyelash Storage Case with Glitter Paper and Clear Tray for Women Girls Eyelash (Holographic)\n",
       "8                                                                                                                                                         Gold extatic Musk EDT 90ml\n",
       "9  4 Pieces Satin Bonnet Adjustable Sleep Cap Double Layer Printed Hair Bonnet Large Reversible Sleeping Silk Night Hair Cap for Women Natural Curly Hair (Floral, Flamingo, Flower)"
      ]
     },
     "execution_count": 58,
     "metadata": {},
     "output_type": "execute_result"
    }
   ],
   "source": [
    "meta_df[[\"title\"]].head(10)"
   ]
  },
  {
   "cell_type": "code",
   "execution_count": 62,
   "metadata": {},
   "outputs": [
    {
     "name": "stdout",
     "output_type": "stream",
     "text": [
      "Similar products for 'Howard LC0008 Leather Conditioner, 8-Ounce (4-Pack)':\n"
     ]
    },
    {
     "data": {
      "text/html": [
       "<div>\n",
       "<style scoped>\n",
       "    .dataframe tbody tr th:only-of-type {\n",
       "        vertical-align: middle;\n",
       "    }\n",
       "\n",
       "    .dataframe tbody tr th {\n",
       "        vertical-align: top;\n",
       "    }\n",
       "\n",
       "    .dataframe thead th {\n",
       "        text-align: right;\n",
       "    }\n",
       "</style>\n",
       "<table border=\"1\" class=\"dataframe\">\n",
       "  <thead>\n",
       "    <tr style=\"text-align: right;\">\n",
       "      <th></th>\n",
       "      <th>title</th>\n",
       "      <th>similarity</th>\n",
       "    </tr>\n",
       "  </thead>\n",
       "  <tbody>\n",
       "    <tr>\n",
       "      <th>24869</th>\n",
       "      <td>Black Leather Jewelry Box w/ Travel Case</td>\n",
       "      <td>0.65</td>\n",
       "    </tr>\n",
       "    <tr>\n",
       "      <th>26120</th>\n",
       "      <td>English Leather Deodorant Stick - 3 Oz (85g) (2 Pack)</td>\n",
       "      <td>0.63</td>\n",
       "    </tr>\n",
       "    <tr>\n",
       "      <th>42363</th>\n",
       "      <td>LEATHERMAN 831961 Juice(R) C2 Multi-Tool (Sunrise Yellow)</td>\n",
       "      <td>0.63</td>\n",
       "    </tr>\n",
       "    <tr>\n",
       "      <th>84289</th>\n",
       "      <td>Nine WEST Women's Wearable Leather Oxford Flat, Black, 5.5</td>\n",
       "      <td>0.63</td>\n",
       "    </tr>\n",
       "    <tr>\n",
       "      <th>69124</th>\n",
       "      <td>Quantum Moisturizing Conditioner 15oz/443ml</td>\n",
       "      <td>0.62</td>\n",
       "    </tr>\n",
       "    <tr>\n",
       "      <th>26969</th>\n",
       "      <td>Genuine Leather Travel Grooming Cosmetic Kit Color: Malibu Blue</td>\n",
       "      <td>0.61</td>\n",
       "    </tr>\n",
       "    <tr>\n",
       "      <th>41850</th>\n",
       "      <td>Gunnar Authentic Leather Case</td>\n",
       "      <td>0.44</td>\n",
       "    </tr>\n",
       "    <tr>\n",
       "      <th>89502</th>\n",
       "      <td>Howard LC0008 Leather Conditioner, 8-Ounce (2-pack)</td>\n",
       "      <td>0.38</td>\n",
       "    </tr>\n",
       "    <tr>\n",
       "      <th>52885</th>\n",
       "      <td>Workman’s Friend All-Natural Leather Conditioner</td>\n",
       "      <td>0.00</td>\n",
       "    </tr>\n",
       "  </tbody>\n",
       "</table>\n",
       "</div>"
      ],
      "text/plain": [
       "                                                                 title  \\\n",
       "24869                         Black Leather Jewelry Box w/ Travel Case   \n",
       "26120            English Leather Deodorant Stick - 3 Oz (85g) (2 Pack)   \n",
       "42363        LEATHERMAN 831961 Juice(R) C2 Multi-Tool (Sunrise Yellow)   \n",
       "84289       Nine WEST Women's Wearable Leather Oxford Flat, Black, 5.5   \n",
       "69124                      Quantum Moisturizing Conditioner 15oz/443ml   \n",
       "26969  Genuine Leather Travel Grooming Cosmetic Kit Color: Malibu Blue   \n",
       "41850                                    Gunnar Authentic Leather Case   \n",
       "89502              Howard LC0008 Leather Conditioner, 8-Ounce (2-pack)   \n",
       "52885                 Workman’s Friend All-Natural Leather Conditioner   \n",
       "\n",
       "       similarity  \n",
       "24869        0.65  \n",
       "26120        0.63  \n",
       "42363        0.63  \n",
       "84289        0.63  \n",
       "69124        0.62  \n",
       "26969        0.61  \n",
       "41850        0.44  \n",
       "89502        0.38  \n",
       "52885        0.00  "
      ]
     },
     "execution_count": 62,
     "metadata": {},
     "output_type": "execute_result"
    }
   ],
   "source": [
    "product_title = meta_df[\"title\"].iloc[0]\n",
    "similar_products = get_similar_products_faiss(product_title, meta_df, index, top_n=10)\n",
    "print(f\"Similar products for '{product_title}':\")\n",
    "similar_products"
   ]
  },
  {
   "cell_type": "markdown",
   "metadata": {},
   "source": [
    "## 4.4. CHROMADB is Used for Cosine Similarity Search\n",
    "\n",
    "`Chroma` is another powerful tool used for vector-based similarity searches, similar to FAISS. However, Chroma allows for more efficient and scalable vector searches, including cosine similarity, without needing a custom FAISS index.\n",
    "\n",
    "In this section, we will use Chroma to perform cosine similarity searches. The procedure is similar to FAISS but with easier setup and integration. Chroma stores embeddings and allows for direct querying of vectors for finding similar items. The process includes setting up the Chroma client, inserting embeddings, and performing searches on those embeddings."
   ]
  },
  {
   "cell_type": "code",
   "execution_count": 13,
   "metadata": {},
   "outputs": [],
   "source": [
    "client = chromadb.Client()\n",
    "collection_name = \"product_collection\"\n",
    "collection = client.create_collection(collection_name) if collection_name not in client.list_collections() else client.get_collection(collection_name)"
   ]
  },
  {
   "cell_type": "code",
   "execution_count": null,
   "metadata": {},
   "outputs": [],
   "source": [
    "for idx, embedding in enumerate(text_embeddings):\n",
    "    collection.add(ids=[str(idx)], documents=[meta_df[\"title\"].iloc[idx]], embeddings=[embedding])"
   ]
  },
  {
   "cell_type": "markdown",
   "metadata": {},
   "source": [
    "## 4.5. Listing Similar Products with CHROMADB\n",
    "\n",
    "After setting up the Chroma collection, you can now query for the most similar products based on the `cosine similarity` of their embeddings. The get_similar_products_chroma function will help retrieve products that are similar to the given product title.\n",
    "\n",
    "The function will perform the following steps:\n",
    "\n",
    "- Retrieve the embedding for the given product title.\n",
    "  \n",
    "- Use Chroma to search for the most similar products by querying the collection.\n",
    "  \n",
    "- Return the top N most similar products.\n",
    "\n",
    "When comparing Chroma and FAISS, it was observed that Chroma produced slightly better results for the top recommended product. "
   ]
  },
  {
   "cell_type": "code",
   "execution_count": 21,
   "metadata": {},
   "outputs": [],
   "source": [
    "def get_similar_products_chroma(product_title: str, meta_df: pd.DataFrame, collection, top_n: int = 10) -> pd.DataFrame:\n",
    "    \"\"\"\n",
    "    Use Chroma to find products similar to a given product based on its title.\n",
    "\n",
    "    Parameters\n",
    "    ----------\n",
    "    product_title : str\n",
    "        The title of the product for which similar products are to be found.\n",
    "    meta_df : pd.DataFrame\n",
    "        A DataFrame containing product information (titles and vectors).\n",
    "    collection : chromadb.Collection\n",
    "        The Chroma collection object used for similarity search.\n",
    "    top_n : int, optional\n",
    "        The number of similar products to return, by default 10.\n",
    "\n",
    "    Returns\n",
    "    -------\n",
    "    pd.DataFrame\n",
    "        A DataFrame containing the titles of the most similar products and their similarity scores, sorted in descending order.\n",
    "    \"\"\"\n",
    "\n",
    "    product_index = meta_df[meta_df[\"title\"] == product_title].index[0]\n",
    "    product_vector = text_embeddings[product_index]\n",
    "\n",
    "    results = collection.query(query_embeddings=[product_vector], n_results=top_n)\n",
    "\n",
    "    if len(results[\"documents\"][0]) != len(results[\"distances\"][0]):\n",
    "        raise ValueError(\"Mismatch between documents and distances lengths in query results.\")\n",
    "\n",
    "    similar_products = pd.DataFrame({\n",
    "        'title': results['documents'][0],\n",
    "        'similarity': results['distances'][0]\n",
    "    })\n",
    "\n",
    "    similar_products = similar_products.sort_values(by=\"similarity\", ascending=False)\n",
    "\n",
    "    return similar_products\n"
   ]
  },
  {
   "cell_type": "code",
   "execution_count": 24,
   "metadata": {},
   "outputs": [
    {
     "data": {
      "text/html": [
       "<div>\n",
       "<style scoped>\n",
       "    .dataframe tbody tr th:only-of-type {\n",
       "        vertical-align: middle;\n",
       "    }\n",
       "\n",
       "    .dataframe tbody tr th {\n",
       "        vertical-align: top;\n",
       "    }\n",
       "\n",
       "    .dataframe thead th {\n",
       "        text-align: right;\n",
       "    }\n",
       "</style>\n",
       "<table border=\"1\" class=\"dataframe\">\n",
       "  <thead>\n",
       "    <tr style=\"text-align: right;\">\n",
       "      <th></th>\n",
       "      <th>title</th>\n",
       "    </tr>\n",
       "  </thead>\n",
       "  <tbody>\n",
       "    <tr>\n",
       "      <th>0</th>\n",
       "      <td>Howard LC0008 Leather Conditioner, 8-Ounce (4-Pack)</td>\n",
       "    </tr>\n",
       "    <tr>\n",
       "      <th>1</th>\n",
       "      <td>Yes to Tomatoes Detoxifying Charcoal Cleanser (Pack of 2) with Charcoal Powder, Tomato Fruit Extract, and Gingko Biloba Leaf Extract, 5 fl. oz.</td>\n",
       "    </tr>\n",
       "    <tr>\n",
       "      <th>2</th>\n",
       "      <td>Eye Patch Black Adult with Tie Band (6 Per Pack)</td>\n",
       "    </tr>\n",
       "    <tr>\n",
       "      <th>3</th>\n",
       "      <td>Tattoo Eyebrow Stickers, Waterproof Eyebrow, 4D Imitation Eyebrow Tattoos, 4D Hair-like Authentic Eyebrows Waterproof Long Lasting for Woman &amp; Man Makeup Tool</td>\n",
       "    </tr>\n",
       "    <tr>\n",
       "      <th>4</th>\n",
       "      <td>Precision Plunger Bars for Cartridge Grips – 93mm – Bag of 10 Plungers</td>\n",
       "    </tr>\n",
       "    <tr>\n",
       "      <th>5</th>\n",
       "      <td>Lurrose 100Pcs Full Cover Fake Toenails Artificial Transparent Nail Tips Nail Art for DIY</td>\n",
       "    </tr>\n",
       "    <tr>\n",
       "      <th>6</th>\n",
       "      <td>Stain Bonnet For Baby Bonnet Silk Sleep Cap For Toddler Child Shower Cap Teens Kids</td>\n",
       "    </tr>\n",
       "    <tr>\n",
       "      <th>7</th>\n",
       "      <td>50 Pieces False Eyelash Packaging Box Empty Eyelash Box Plastic Eyelash Storage Case with Glitter Paper and Clear Tray for Women Girls Eyelash (Holographic)</td>\n",
       "    </tr>\n",
       "    <tr>\n",
       "      <th>8</th>\n",
       "      <td>Gold extatic Musk EDT 90ml</td>\n",
       "    </tr>\n",
       "    <tr>\n",
       "      <th>9</th>\n",
       "      <td>4 Pieces Satin Bonnet Adjustable Sleep Cap Double Layer Printed Hair Bonnet Large Reversible Sleeping Silk Night Hair Cap for Women Natural Curly Hair (Floral, Flamingo, Flower)</td>\n",
       "    </tr>\n",
       "  </tbody>\n",
       "</table>\n",
       "</div>"
      ],
      "text/plain": [
       "                                                                                                                                                                               title\n",
       "0                                                                                                                                Howard LC0008 Leather Conditioner, 8-Ounce (4-Pack)\n",
       "1                                    Yes to Tomatoes Detoxifying Charcoal Cleanser (Pack of 2) with Charcoal Powder, Tomato Fruit Extract, and Gingko Biloba Leaf Extract, 5 fl. oz.\n",
       "2                                                                                                                                   Eye Patch Black Adult with Tie Band (6 Per Pack)\n",
       "3                     Tattoo Eyebrow Stickers, Waterproof Eyebrow, 4D Imitation Eyebrow Tattoos, 4D Hair-like Authentic Eyebrows Waterproof Long Lasting for Woman & Man Makeup Tool\n",
       "4                                                                                                             Precision Plunger Bars for Cartridge Grips – 93mm – Bag of 10 Plungers\n",
       "5                                                                                          Lurrose 100Pcs Full Cover Fake Toenails Artificial Transparent Nail Tips Nail Art for DIY\n",
       "6                                                                                                Stain Bonnet For Baby Bonnet Silk Sleep Cap For Toddler Child Shower Cap Teens Kids\n",
       "7                       50 Pieces False Eyelash Packaging Box Empty Eyelash Box Plastic Eyelash Storage Case with Glitter Paper and Clear Tray for Women Girls Eyelash (Holographic)\n",
       "8                                                                                                                                                         Gold extatic Musk EDT 90ml\n",
       "9  4 Pieces Satin Bonnet Adjustable Sleep Cap Double Layer Printed Hair Bonnet Large Reversible Sleeping Silk Night Hair Cap for Women Natural Curly Hair (Floral, Flamingo, Flower)"
      ]
     },
     "execution_count": 24,
     "metadata": {},
     "output_type": "execute_result"
    }
   ],
   "source": [
    "meta_df[[\"title\"]].head(10)"
   ]
  },
  {
   "cell_type": "code",
   "execution_count": 26,
   "metadata": {},
   "outputs": [
    {
     "name": "stdout",
     "output_type": "stream",
     "text": [
      "Similar products for 'Howard LC0008 Leather Conditioner, 8-Ounce (4-Pack)':\n"
     ]
    },
    {
     "data": {
      "text/html": [
       "<div>\n",
       "<style scoped>\n",
       "    .dataframe tbody tr th:only-of-type {\n",
       "        vertical-align: middle;\n",
       "    }\n",
       "\n",
       "    .dataframe tbody tr th {\n",
       "        vertical-align: top;\n",
       "    }\n",
       "\n",
       "    .dataframe thead th {\n",
       "        text-align: right;\n",
       "    }\n",
       "</style>\n",
       "<table border=\"1\" class=\"dataframe\">\n",
       "  <thead>\n",
       "    <tr style=\"text-align: right;\">\n",
       "      <th></th>\n",
       "      <th>title</th>\n",
       "      <th>similarity</th>\n",
       "    </tr>\n",
       "  </thead>\n",
       "  <tbody>\n",
       "    <tr>\n",
       "      <th>9</th>\n",
       "      <td>COBBLER'S CHOICE CO. FINEST QUALITY All-Natural Leather Restorer Conditioner</td>\n",
       "      <td>0.66</td>\n",
       "    </tr>\n",
       "    <tr>\n",
       "      <th>8</th>\n",
       "      <td>Black Leather Jewelry Box w/ Travel Case</td>\n",
       "      <td>0.66</td>\n",
       "    </tr>\n",
       "    <tr>\n",
       "      <th>7</th>\n",
       "      <td>LEATHERMAN 831961 Juice(R) C2 Multi-Tool (Sunrise Yellow)</td>\n",
       "      <td>0.63</td>\n",
       "    </tr>\n",
       "    <tr>\n",
       "      <th>6</th>\n",
       "      <td>Nine WEST Women's Wearable Leather Oxford Flat, Black, 5.5</td>\n",
       "      <td>0.63</td>\n",
       "    </tr>\n",
       "    <tr>\n",
       "      <th>5</th>\n",
       "      <td>Quantum Moisturizing Conditioner 15oz/443ml</td>\n",
       "      <td>0.63</td>\n",
       "    </tr>\n",
       "    <tr>\n",
       "      <th>4</th>\n",
       "      <td>Genuine Leather Travel Grooming Cosmetic Kit Color: Malibu Blue</td>\n",
       "      <td>0.62</td>\n",
       "    </tr>\n",
       "    <tr>\n",
       "      <th>3</th>\n",
       "      <td>Gunnar Authentic Leather Case</td>\n",
       "      <td>0.61</td>\n",
       "    </tr>\n",
       "    <tr>\n",
       "      <th>2</th>\n",
       "      <td>Howard LC0008 Leather Conditioner, 8-Ounce (2-pack)</td>\n",
       "      <td>0.44</td>\n",
       "    </tr>\n",
       "    <tr>\n",
       "      <th>1</th>\n",
       "      <td>Workman’s Friend All-Natural Leather Conditioner</td>\n",
       "      <td>0.38</td>\n",
       "    </tr>\n",
       "    <tr>\n",
       "      <th>0</th>\n",
       "      <td>Howard LC0008 Leather Conditioner, 8-Ounce (4-Pack)</td>\n",
       "      <td>0.00</td>\n",
       "    </tr>\n",
       "  </tbody>\n",
       "</table>\n",
       "</div>"
      ],
      "text/plain": [
       "                                                                          title  \\\n",
       "9  COBBLER'S CHOICE CO. FINEST QUALITY All-Natural Leather Restorer Conditioner   \n",
       "8                                      Black Leather Jewelry Box w/ Travel Case   \n",
       "7                     LEATHERMAN 831961 Juice(R) C2 Multi-Tool (Sunrise Yellow)   \n",
       "6                    Nine WEST Women's Wearable Leather Oxford Flat, Black, 5.5   \n",
       "5                                   Quantum Moisturizing Conditioner 15oz/443ml   \n",
       "4               Genuine Leather Travel Grooming Cosmetic Kit Color: Malibu Blue   \n",
       "3                                                 Gunnar Authentic Leather Case   \n",
       "2                           Howard LC0008 Leather Conditioner, 8-Ounce (2-pack)   \n",
       "1                              Workman’s Friend All-Natural Leather Conditioner   \n",
       "0                           Howard LC0008 Leather Conditioner, 8-Ounce (4-Pack)   \n",
       "\n",
       "   similarity  \n",
       "9        0.66  \n",
       "8        0.66  \n",
       "7        0.63  \n",
       "6        0.63  \n",
       "5        0.63  \n",
       "4        0.62  \n",
       "3        0.61  \n",
       "2        0.44  \n",
       "1        0.38  \n",
       "0        0.00  "
      ]
     },
     "execution_count": 26,
     "metadata": {},
     "output_type": "execute_result"
    }
   ],
   "source": [
    "product_title = meta_df[\"title\"].iloc[0]\n",
    "similar_products = get_similar_products_chroma(product_title, meta_df, collection, top_n=10)\n",
    "print(f\"Similar products for '{product_title}':\")\n",
    "similar_products"
   ]
  },
  {
   "cell_type": "markdown",
   "metadata": {},
   "source": [
    "# 5. Conclusion\n",
    "\n",
    "In this project, a recommendation system was developed using the SentenceTransformer model for text vectorization, converting product titles into vector representations. Faiss and Chroma were used for similarity search, with Euclidean distance applied by Faiss and Cosine Similarity by Chroma. It was found that Chroma provided slightly better results, likely due to its optimization for textual data. Both tools enabled efficient similarity search, with Chroma being more effective for high-dimensional text embeddings. This system offers product recommendations based on semantic similarity, enhancing the user experience."
   ]
  }
 ],
 "metadata": {
  "kernelspec": {
   "display_name": "venv",
   "language": "python",
   "name": "python3"
  },
  "language_info": {
   "codemirror_mode": {
    "name": "ipython",
    "version": 3
   },
   "file_extension": ".py",
   "mimetype": "text/x-python",
   "name": "python",
   "nbconvert_exporter": "python",
   "pygments_lexer": "ipython3",
   "version": "3.12.6"
  }
 },
 "nbformat": 4,
 "nbformat_minor": 2
}
